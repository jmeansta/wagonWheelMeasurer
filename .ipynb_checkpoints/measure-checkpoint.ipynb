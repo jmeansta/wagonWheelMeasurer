{
 "cells": [
  {
   "cell_type": "raw",
   "id": "2a85ad42-1582-4293-af51-16a433b1e3e6",
   "metadata": {},
   "source": [
    "Wagon Wheel Measurer\n",
    "V 1.0 - commit 402ac21\n",
    "\n",
    "This is a tool for measuring particle diameters.\n",
    "Researchers often make the assumption that any blob they're measuring is roughly circular. This tool allows for more precision.\n",
    "Instead of measuring a single particle diameter, this tool takes particle outlines in ImageJ's polyline format and measures many diameters, all passing through the particle's centroid. The result looks something like a wagon wheel: the rim is the particle's outline, and the spokes are the measured diameters."
   ]
  },
  {
   "cell_type": "code",
   "execution_count": 2,
   "id": "6f42bd1e-7826-4076-8e7a-c38cd2e08522",
   "metadata": {},
   "outputs": [],
   "source": [
    "import os\n",
    "import zipfile\n",
    "import roifile\n",
    "import numpy as np\n",
    "import shapely"
   ]
  },
  {
   "cell_type": "code",
   "execution_count": 5,
   "id": "eb2a44e2-771d-4ac0-90de-06ddffbe5332",
   "metadata": {},
   "outputs": [],
   "source": [
    "# Define some functions for use later\n",
    "def rotMatrix(theta):\n",
    "    # returns a numpy rotation matrix at the given angle (degrees)\n",
    "    theta = np.degrees(theta)\n",
    "    return np.matrix([[np.cos(theta),-np.sin(theta)],[np.sin(theta),np.cos(theta)]])\n",
    "\n",
    "def yIntercept(x1,y1,x2,y2):\n",
    "    # returns the y-intercept of a line given two points on it\n",
    "    return -x1*((y2-y1)/(x2-x1))+y1"
   ]
  },
  {
   "cell_type": "raw",
   "id": "8a684f69-df3d-4014-a09b-10d5f6df5581",
   "metadata": {},
   "source": [
    "1: input the file paths and angles you want to measure\n",
    "\n",
    "This is where the program will look for and save data. The values for these will depend on your system. See tutorials below:\n",
    "Windows: https://www.wikihow.com/Find-a-File%27s-Path-on-Windows\n",
    "Mac: https://www.macworld.com/article/352788/how-to-find-the-path-of-a-file-in-macos.html\n",
    "\n",
    "angleStep determines the angles that the diameters will be measured at. For a value of 1, the script will take measurements at 0°, 1°, 2° and so on. You can run the code marked EXAMPLE to see a demo"
   ]
  },
  {
   "cell_type": "code",
   "execution_count": null,
   "id": "935b05b7-6855-4fdc-849f-7efe8124f9e0",
   "metadata": {},
   "outputs": [],
   "source": [
    "# Example Values Given\n",
    "zipFilePath = r\"Documents/measurements.zip\"\n",
    "tempStoragePath = r\"Documents/temporaryRoiStorage\" # THIS FOLDER MUST BE EMPTY BEFORE YOU RUN THIS SCRIPT\n",
    "+ = r\"Documents/measurements.txt\"\n",
    "\n",
    "angleStep = 30"
   ]
  },
  {
   "cell_type": "code",
   "execution_count": 7,
   "id": "fbfba211-87f6-4ad8-ae21-cc23c40463bf",
   "metadata": {},
   "outputs": [],
   "source": [
    "# EXAMPLE\n",
    "import numpy as np\n",
    "import matplotlib.pyplot as plt\n",
    "import matplotlib.patches as mpatches\n",
    "# unfinished"
   ]
  },
  {
   "cell_type": "raw",
   "id": "79031fe1-d361-4f73-90fd-7e71d6662e3e",
   "metadata": {},
   "source": [
    "2: the script gets data from the zip file full of ROIs\n",
    "\n",
    "MAKE SURE THE FOLDER YOU DEFINED AS tempStoragePath IS EMPTY. ANY DATA IN IT WILL BE DELETED WHEN YOU RUN THIS SCRIPT"
   ]
  },
  {
   "cell_type": "code",
   "execution_count": null,
   "id": "2862e8a8-6a3f-4945-a12e-ee13e3d313c8",
   "metadata": {},
   "outputs": [],
   "source": [
    "with zipfile.ZipFile(zipFilePath, 'r') as zip_ref:\n",
    "    zip_ref.extractall(tempStoragePath)\n",
    "os.chdir(tempStoragePath)\n",
    "fileNames = os.listdir()\n",
    "roiList = []\n",
    "for file in fileNames:\n",
    "    roiList.append(roifile.ImagejRoi.fromfile(file).coordinates())\n",
    "for file in fileNames:\n",
    "    os.remove(file)"
   ]
  },
  {
   "cell_type": "raw",
   "id": "86668986-974b-4f1a-9fd8-4d267b2e8a05",
   "metadata": {},
   "source": [
    "3: the script does the necessary rotation, measures the particle diameter, and writes this data to the save file specified in step 1.\n",
    "Any existing data in the save file won't be overwritten. This script just appends the measurements to the end of the file."
   ]
  },
  {
   "cell_type": "code",
   "execution_count": null,
   "id": "d61d8641-e95b-4961-a3aa-2d7a87b04b8b",
   "metadata": {},
   "outputs": [],
   "source": [
    "with open(saveFilePath,\"a\") as saveFile:\n",
    "    saveFile.write(\"ROI Name,Angle,Diameter(px)\\n\")\n",
    "    for roiCoords,roiName in zip(roiList,fileNames):\n",
    "        roiCoords = np.append(roiCoords,[roiCoords[0]], axis=0)\n",
    "        roiPoly = shapely.Polygon(roiCoords)\n",
    "        roiCoordsCentered = roiCoords - roiPoly.centroid.coords\n",
    "        for angle in range(0,180,angleStep):\n",
    "            roiCoordsRotated = roiCoordsCentered*rotMatrix(angle)\n",
    "            refPt = shapely.Point(roiCoordsRotated[0])\n",
    "            yIntList = []\n",
    "            for curPtCoords in roiCoordsRotated:\n",
    "                curPt = shapely.Point(curPtCoords)\n",
    "                if np.sign(refPt.x) != np.sign(curPt.x):\n",
    "                    yIntList.append(yIntercept(refPt.x,refPt.y,curPt.x,curPt.y))\n",
    "                refPt = curPt\n",
    "            saveFile.write(\"{},{},{}\\n\".format(roiName,angle,max(yIntList)-min(yIntList)))"
   ]
  }
 ],
 "metadata": {
  "kernelspec": {
   "display_name": "Python 3 (ipykernel)",
   "language": "python",
   "name": "python3"
  },
  "language_info": {
   "codemirror_mode": {
    "name": "ipython",
    "version": 3
   },
   "file_extension": ".py",
   "mimetype": "text/x-python",
   "name": "python",
   "nbconvert_exporter": "python",
   "pygments_lexer": "ipython3",
   "version": "3.9.12"
  }
 },
 "nbformat": 4,
 "nbformat_minor": 5
}
