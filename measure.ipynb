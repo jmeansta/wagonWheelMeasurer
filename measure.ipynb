{
 "cells": [
  {
   "cell_type": "raw",
   "id": "2a85ad42-1582-4293-af51-16a433b1e3e6",
   "metadata": {},
   "source": [
    "Wagon Wheel Measurer\n",
    "V 1.0"
   ]
  },
  {
   "cell_type": "code",
   "execution_count": 1,
   "id": "6f42bd1e-7826-4076-8e7a-c38cd2e08522",
   "metadata": {},
   "outputs": [],
   "source": [
    "import os\n",
    "import zipfile\n",
    "import roifile\n",
    "import numpy as np\n",
    "import shapely"
   ]
  },
  {
   "cell_type": "markdown",
   "id": "2e8f9335-4594-4f59-840a-7dff95ba44e6",
   "metadata": {},
   "source": []
  }
 ],
 "metadata": {
  "kernelspec": {
   "display_name": "Python 3 (ipykernel)",
   "language": "python",
   "name": "python3"
  },
  "language_info": {
   "codemirror_mode": {
    "name": "ipython",
    "version": 3
   },
   "file_extension": ".py",
   "mimetype": "text/x-python",
   "name": "python",
   "nbconvert_exporter": "python",
   "pygments_lexer": "ipython3",
   "version": "3.9.12"
  }
 },
 "nbformat": 4,
 "nbformat_minor": 5
}
