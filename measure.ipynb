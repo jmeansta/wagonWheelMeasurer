{
 "cells": [
  {
   "cell_type": "raw",
   "id": "2a85ad42-1582-4293-af51-16a433b1e3e6",
   "metadata": {},
   "source": [
    "Wagon Wheel Measurer\n",
    "V 1.1.0\n",
    "\n",
    "This is a tool for measuring particle diameters.\n",
    "Researchers often make the assumption that any blob they're measuring is roughly circular. This tool allows for more precision.\n",
    "Instead of measuring a single particle diameter, this tool takes particle outlines in ImageJ's polyline format and measures many diameters, all passing through the particle's centroid. The result looks something like a wagon wheel: the rim is the particle's outline, and the spokes are the measured diameters."
   ]
  },
  {
   "cell_type": "code",
   "execution_count": 10,
   "id": "6f42bd1e-7826-4076-8e7a-c38cd2e08522",
   "metadata": {},
   "outputs": [],
   "source": [
    "import os\n",
    "import zipfile\n",
    "import roifile\n",
    "import numpy as np\n",
    "import shapely"
   ]
  },
  {
   "cell_type": "code",
   "execution_count": 11,
   "id": "eb2a44e2-771d-4ac0-90de-06ddffbe5332",
   "metadata": {},
   "outputs": [],
   "source": [
    "# Define some functions for use later\n",
    "def rotMatrix(theta):\n",
    "    # returns a numpy rotation matrix at the given angle (degrees)\n",
    "    theta = np.degrees(theta)\n",
    "    return np.matrix([[np.cos(theta),-np.sin(theta)],[np.sin(theta),np.cos(theta)]])\n",
    "\n",
    "def yIntercept(x1,y1,x2,y2):\n",
    "    # returns the y-intercept of a line given two points on it\n",
    "    return -x1*((y2-y1)/(x2-x1))+y1"
   ]
  },
  {
   "cell_type": "raw",
   "id": "8a684f69-df3d-4014-a09b-10d5f6df5581",
   "metadata": {},
   "source": [
    "1: Input the file paths and angles you want to measure.\n",
    "If this is your first time running the program, look for a manual PDF. That'll tell you how to set up the variables in the following section.\n",
    "\n",
    "angleStep determines the angles that the diameters will be measured at. For a value of 1, the script will take measurements at 0°, 1°, 2° and so on.\n",
    "zipFilePath is the file containing all your measurements as ROIs\n",
    "saveFilePath is where you want your finished data to be written\n",
    "\n",
    "For more information, see the manual PDF."
   ]
  },
  {
   "cell_type": "code",
   "execution_count": 12,
   "id": "abff23be-d52b-4e85-8c64-cbcc6362e1ce",
   "metadata": {},
   "outputs": [],
   "source": [
    "angleStep = 1\n",
    "zipFilePath = r\"C:\\Users\\username\\Desktop\\projectFolder\\zipFile.zip\"\n",
    "saveFilePath = r\"C:\\Users\\username\\Desktop\\projectFolder\\output.txt\""
   ]
  },
  {
   "cell_type": "markdown",
   "id": "e4ebcb43-9e8f-460d-8fc4-e09f18e73df1",
   "metadata": {},
   "source": [
    "The folder named wagonWheel is temporary file storage for the program. DO NOT STORE YOUR DATA IN THIS FOLDER. EVERYTHING IN THIS FOLDER IS DELETED WHEN YOU RUN THE PROGRAM."
   ]
  },
  {
   "cell_type": "code",
   "execution_count": 13,
   "id": "d2d9e223-5b92-4748-a6f2-b55bcb978880",
   "metadata": {},
   "outputs": [],
   "source": [
    "os.mkdir(\"wagonWheelTemp\")\n",
    "os.chdir(\"wagonWheelTemp\")\n",
    "tempStoragePath = os.getcwd()"
   ]
  },
  {
   "cell_type": "raw",
   "id": "79031fe1-d361-4f73-90fd-7e71d6662e3e",
   "metadata": {},
   "source": [
    "2: the script gets data from the zip file full of ROIs"
   ]
  },
  {
   "cell_type": "code",
   "execution_count": 14,
   "id": "2862e8a8-6a3f-4945-a12e-ee13e3d313c8",
   "metadata": {},
   "outputs": [
    {
     "ename": "FileNotFoundError",
     "evalue": "[Errno 2] No such file or directory: 'C:\\\\Users\\\\username\\\\Desktop\\\\projectFolder\\\\zipFile.zip'",
     "output_type": "error",
     "traceback": [
      "\u001b[1;31m---------------------------------------------------------------------------\u001b[0m",
      "\u001b[1;31mFileNotFoundError\u001b[0m                         Traceback (most recent call last)",
      "Cell \u001b[1;32mIn[14], line 1\u001b[0m\n\u001b[1;32m----> 1\u001b[0m \u001b[38;5;28;01mwith\u001b[39;00m \u001b[43mzipfile\u001b[49m\u001b[38;5;241;43m.\u001b[39;49m\u001b[43mZipFile\u001b[49m\u001b[43m(\u001b[49m\u001b[43mzipFilePath\u001b[49m\u001b[43m,\u001b[49m\u001b[43m \u001b[49m\u001b[38;5;124;43m'\u001b[39;49m\u001b[38;5;124;43mr\u001b[39;49m\u001b[38;5;124;43m'\u001b[39;49m\u001b[43m)\u001b[49m \u001b[38;5;28;01mas\u001b[39;00m zip_ref:\n\u001b[0;32m      2\u001b[0m     zip_ref\u001b[38;5;241m.\u001b[39mextractall(tempStoragePath)\n\u001b[0;32m      3\u001b[0m os\u001b[38;5;241m.\u001b[39mchdir(tempStoragePath)\n",
      "File \u001b[1;32m~\\anaconda3\\lib\\zipfile.py:1248\u001b[0m, in \u001b[0;36mZipFile.__init__\u001b[1;34m(self, file, mode, compression, allowZip64, compresslevel, strict_timestamps)\u001b[0m\n\u001b[0;32m   1246\u001b[0m \u001b[38;5;28;01mwhile\u001b[39;00m \u001b[38;5;28;01mTrue\u001b[39;00m:\n\u001b[0;32m   1247\u001b[0m     \u001b[38;5;28;01mtry\u001b[39;00m:\n\u001b[1;32m-> 1248\u001b[0m         \u001b[38;5;28mself\u001b[39m\u001b[38;5;241m.\u001b[39mfp \u001b[38;5;241m=\u001b[39m \u001b[43mio\u001b[49m\u001b[38;5;241;43m.\u001b[39;49m\u001b[43mopen\u001b[49m\u001b[43m(\u001b[49m\u001b[43mfile\u001b[49m\u001b[43m,\u001b[49m\u001b[43m \u001b[49m\u001b[43mfilemode\u001b[49m\u001b[43m)\u001b[49m\n\u001b[0;32m   1249\u001b[0m     \u001b[38;5;28;01mexcept\u001b[39;00m \u001b[38;5;167;01mOSError\u001b[39;00m:\n\u001b[0;32m   1250\u001b[0m         \u001b[38;5;28;01mif\u001b[39;00m filemode \u001b[38;5;129;01min\u001b[39;00m modeDict:\n",
      "\u001b[1;31mFileNotFoundError\u001b[0m: [Errno 2] No such file or directory: 'C:\\\\Users\\\\username\\\\Desktop\\\\projectFolder\\\\zipFile.zip'"
     ]
    }
   ],
   "source": [
    "with zipfile.ZipFile(zipFilePath, 'r') as zip_ref:\n",
    "    zip_ref.extractall(tempStoragePath)\n",
    "os.chdir(tempStoragePath)\n",
    "fileNames = os.listdir()\n",
    "roiList = []\n",
    "for file in fileNames:\n",
    "    roiList.append(roifile.ImagejRoi.fromfile(file).coordinates())\n",
    "for file in fileNames:\n",
    "    os.remove(file)"
   ]
  },
  {
   "cell_type": "raw",
   "id": "86668986-974b-4f1a-9fd8-4d267b2e8a05",
   "metadata": {},
   "source": [
    "3: the script does the necessary rotation, measures the particle diameter, and writes this data to the save file specified in step 1.\n",
    "Any existing data in the save file won't be overwritten. This script just appends the measurements to the end of the file."
   ]
  },
  {
   "cell_type": "code",
   "execution_count": 9,
   "id": "d61d8641-e95b-4961-a3aa-2d7a87b04b8b",
   "metadata": {},
   "outputs": [
    {
     "name": "stdout",
     "output_type": "stream",
     "text": [
      "done\n"
     ]
    }
   ],
   "source": [
    "with open(saveFilePath,\"a\") as saveFile:\n",
    "    saveFile.write(\"ROI Name,Angle,Diameter(px)\\n\")\n",
    "    for roiCoords,roiName in zip(roiList,fileNames):\n",
    "        roiCoords = np.append(roiCoords,[roiCoords[0]], axis=0)\n",
    "        roiPoly = shapely.Polygon(roiCoords)\n",
    "        roiCoordsCentered = roiCoords - roiPoly.centroid.coords\n",
    "        for angle in range(0,180,angleStep):\n",
    "            roiCoordsRotated = roiCoordsCentered*rotMatrix(angle)\n",
    "            refPt = shapely.Point(roiCoordsRotated[0])\n",
    "            yIntList = []\n",
    "            for curPtCoords in roiCoordsRotated:\n",
    "                curPt = shapely.Point(curPtCoords)\n",
    "                if np.sign(refPt.x) != np.sign(curPt.x):\n",
    "                    yIntList.append(yIntercept(refPt.x,refPt.y,curPt.x,curPt.y))\n",
    "                refPt = curPt\n",
    "            saveFile.write(\"{},{},{}\\n\".format(roiName,angle,max(yIntList)-min(yIntList)))\n",
    "print(\"done\")"
   ]
  },
  {
   "cell_type": "code",
   "execution_count": null,
   "id": "286a33a7-7edc-4c97-ba04-5a682e28f71a",
   "metadata": {},
   "outputs": [],
   "source": []
  }
 ],
 "metadata": {
  "kernelspec": {
   "display_name": "Python 3 (ipykernel)",
   "language": "python",
   "name": "python3"
  },
  "language_info": {
   "codemirror_mode": {
    "name": "ipython",
    "version": 3
   },
   "file_extension": ".py",
   "mimetype": "text/x-python",
   "name": "python",
   "nbconvert_exporter": "python",
   "pygments_lexer": "ipython3",
   "version": "3.9.12"
  }
 },
 "nbformat": 4,
 "nbformat_minor": 5
}
